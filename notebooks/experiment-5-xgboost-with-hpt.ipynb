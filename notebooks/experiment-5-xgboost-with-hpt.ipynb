{
 "cells": [
  {
   "cell_type": "code",
   "execution_count": 6,
   "metadata": {},
   "outputs": [],
   "source": [
    "# !pip install mlflow boto3 awscli optuna xgboost imbalanced-learn"
   ]
  },
  {
   "cell_type": "code",
   "execution_count": 7,
   "metadata": {},
   "outputs": [
    {
     "name": "stderr",
     "output_type": "stream",
     "text": [
      "[nltk_data] Downloading package stopwords to\n",
      "[nltk_data]     /Users/sudhirjoon/nltk_data...\n",
      "[nltk_data]   Package stopwords is already up-to-date!\n",
      "[nltk_data] Downloading package wordnet to\n",
      "[nltk_data]     /Users/sudhirjoon/nltk_data...\n",
      "[nltk_data]   Package wordnet is already up-to-date!\n"
     ]
    }
   ],
   "source": [
    "import numpy as np\n",
    "import pandas as pd\n",
    "import mlflow\n",
    "\n",
    "import re\n",
    "import nltk\n",
    "from nltk.corpus import stopwords\n",
    "from nltk.stem import WordNetLemmatizer\n",
    "nltk.download('stopwords')\n",
    "nltk.download('wordnet')\n",
    "\n",
    "import mlflow\n",
    "import mlflow.sklearn\n",
    "from sklearn.ensemble import RandomForestClassifier\n",
    "from sklearn.feature_extraction.text import CountVectorizer, TfidfVectorizer\n",
    "from sklearn.model_selection import train_test_split, cross_val_predict, StratifiedKFold\n",
    "from sklearn.metrics import accuracy_score, classification_report, confusion_matrix\n",
    "import pandas as pd\n",
    "import matplotlib.pyplot as plt\n",
    "import seaborn as sns\n",
    "\n",
    "from imblearn.over_sampling import SMOTE, ADASYN\n",
    "from imblearn.under_sampling import RandomUnderSampler\n",
    "from imblearn.combine import SMOTEENN\n",
    "\n",
    "import optuna\n",
    "from sklearn.linear_model import LogisticRegression\n",
    "from sklearn.svm import SVC\n",
    "from xgboost import XGBClassifier\n",
    "from lightgbm import LGBMClassifier\n",
    "from sklearn.neighbors import KNeighborsClassifier\n",
    "from sklearn.naive_bayes import MultinomialNB\n",
    "from sklearn.ensemble import RandomForestClassifier"
   ]
  },
  {
   "cell_type": "code",
   "execution_count": 2,
   "metadata": {},
   "outputs": [
    {
     "name": "stderr",
     "output_type": "stream",
     "text": [
      "2024/12/29 16:18:02 INFO mlflow.tracking.fluent: Experiment with name 'Exp 5 - ML Algos with HP Tuning' does not exist. Creating a new experiment.\n"
     ]
    },
    {
     "data": {
      "text/plain": [
       "<Experiment: artifact_location='s3://capstone-yt-mlflow-bucket/542391321365143307', creation_time=1735485482149, experiment_id='542391321365143307', last_update_time=1735485482149, lifecycle_stage='active', name='Exp 5 - ML Algos with HP Tuning', tags={}>"
      ]
     },
     "execution_count": 2,
     "metadata": {},
     "output_type": "execute_result"
    }
   ],
   "source": [
    "mlflow.set_tracking_uri(\"http://13.60.79.0:5000\")\n",
    "mlflow.set_experiment(\"Exp 5 - ML Algos with HP Tuning\")"
   ]
  },
  {
   "cell_type": "code",
   "execution_count": 3,
   "metadata": {},
   "outputs": [
    {
     "data": {
      "text/plain": [
       "(36662, 2)"
      ]
     },
     "execution_count": 3,
     "metadata": {},
     "output_type": "execute_result"
    }
   ],
   "source": [
    "df = pd.read_csv('reddit_preprocessing.csv').dropna(subset=['clean_comment'])\n",
    "df.shape"
   ]
  },
  {
   "cell_type": "code",
   "execution_count": 11,
   "metadata": {},
   "outputs": [
    {
     "name": "stderr",
     "output_type": "stream",
     "text": [
      "[I 2024-12-29 16:46:59,798] A new study created in memory with name: no-name-3061657d-4cba-49eb-9fe8-342dba1eee7d\n",
      "[I 2024-12-29 16:47:04,340] Trial 0 finished with value: 0.7798697870842864 and parameters: {'n_estimators': 292, 'learning_rate': 0.009258540776564714, 'max_depth': 5}. Best is trial 0 with value: 0.7798697870842864.\n"
     ]
    },
    {
     "name": "stdout",
     "output_type": "stream",
     "text": [
      "🏃 View run XGB_Trial_0 at: http://13.60.79.0:5000/#/experiments/542391321365143307/runs/8dcefc658465483d8706f650d473bfd4\n",
      "🧪 View experiment at: http://13.60.79.0:5000/#/experiments/542391321365143307\n"
     ]
    },
    {
     "name": "stderr",
     "output_type": "stream",
     "text": [
      "[I 2024-12-29 16:47:06,380] Trial 1 finished with value: 0.7902516276614464 and parameters: {'n_estimators': 58, 'learning_rate': 0.023137998929889048, 'max_depth': 10}. Best is trial 1 with value: 0.7902516276614464.\n"
     ]
    },
    {
     "name": "stdout",
     "output_type": "stream",
     "text": [
      "🏃 View run XGB_Trial_1 at: http://13.60.79.0:5000/#/experiments/542391321365143307/runs/61ef687b55e84610869b575c85fc9838\n",
      "🧪 View experiment at: http://13.60.79.0:5000/#/experiments/542391321365143307\n"
     ]
    },
    {
     "name": "stderr",
     "output_type": "stream",
     "text": [
      "[I 2024-12-29 16:47:11,487] Trial 2 finished with value: 0.70983635403836 and parameters: {'n_estimators': 216, 'learning_rate': 0.00016252862890169084, 'max_depth': 9}. Best is trial 1 with value: 0.7902516276614464.\n"
     ]
    },
    {
     "name": "stdout",
     "output_type": "stream",
     "text": [
      "🏃 View run XGB_Trial_2 at: http://13.60.79.0:5000/#/experiments/542391321365143307/runs/34d2ba748196448f951e0360a1623a2f\n",
      "🧪 View experiment at: http://13.60.79.0:5000/#/experiments/542391321365143307\n"
     ]
    },
    {
     "name": "stderr",
     "output_type": "stream",
     "text": [
      "[I 2024-12-29 16:47:16,205] Trial 3 finished with value: 0.7691360197079008 and parameters: {'n_estimators': 245, 'learning_rate': 0.0051197729938266745, 'max_depth': 7}. Best is trial 1 with value: 0.7902516276614464.\n"
     ]
    },
    {
     "name": "stdout",
     "output_type": "stream",
     "text": [
      "🏃 View run XGB_Trial_3 at: http://13.60.79.0:5000/#/experiments/542391321365143307/runs/85d0ea9bfb104fedb34c6ed7f8122fcc\n",
      "🧪 View experiment at: http://13.60.79.0:5000/#/experiments/542391321365143307\n"
     ]
    },
    {
     "name": "stderr",
     "output_type": "stream",
     "text": [
      "[I 2024-12-29 16:47:22,100] Trial 4 finished with value: 0.8210452225937005 and parameters: {'n_estimators': 241, 'learning_rate': 0.013687793167449377, 'max_depth': 9}. Best is trial 4 with value: 0.8210452225937005.\n"
     ]
    },
    {
     "name": "stdout",
     "output_type": "stream",
     "text": [
      "🏃 View run XGB_Trial_4 at: http://13.60.79.0:5000/#/experiments/542391321365143307/runs/ce2e547cd92c47f8b870e59d4d20ba08\n",
      "🧪 View experiment at: http://13.60.79.0:5000/#/experiments/542391321365143307\n"
     ]
    },
    {
     "name": "stderr",
     "output_type": "stream",
     "text": [
      "[I 2024-12-29 16:47:26,656] Trial 5 finished with value: 0.7749428118951258 and parameters: {'n_estimators': 163, 'learning_rate': 0.009544314179662098, 'max_depth': 7}. Best is trial 4 with value: 0.8210452225937005.\n"
     ]
    },
    {
     "name": "stdout",
     "output_type": "stream",
     "text": [
      "🏃 View run XGB_Trial_5 at: http://13.60.79.0:5000/#/experiments/542391321365143307/runs/afc60ef84c564faf876f04a7b94b3ad2\n",
      "🧪 View experiment at: http://13.60.79.0:5000/#/experiments/542391321365143307\n"
     ]
    },
    {
     "name": "stderr",
     "output_type": "stream",
     "text": [
      "[I 2024-12-29 16:47:28,813] Trial 6 finished with value: 0.821749076192152 and parameters: {'n_estimators': 161, 'learning_rate': 0.04585597813254701, 'max_depth': 4}. Best is trial 6 with value: 0.821749076192152.\n"
     ]
    },
    {
     "name": "stdout",
     "output_type": "stream",
     "text": [
      "🏃 View run XGB_Trial_6 at: http://13.60.79.0:5000/#/experiments/542391321365143307/runs/0ab02d5e53de44d09a829a2400129f3e\n",
      "🧪 View experiment at: http://13.60.79.0:5000/#/experiments/542391321365143307\n"
     ]
    },
    {
     "name": "stderr",
     "output_type": "stream",
     "text": [
      "[I 2024-12-29 16:47:30,256] Trial 7 finished with value: 0.7547070209396446 and parameters: {'n_estimators': 69, 'learning_rate': 0.03045259964614955, 'max_depth': 3}. Best is trial 6 with value: 0.821749076192152.\n"
     ]
    },
    {
     "name": "stdout",
     "output_type": "stream",
     "text": [
      "🏃 View run XGB_Trial_7 at: http://13.60.79.0:5000/#/experiments/542391321365143307/runs/78cd94df893b452b8b01342e47efee93\n",
      "🧪 View experiment at: http://13.60.79.0:5000/#/experiments/542391321365143307\n"
     ]
    },
    {
     "name": "stderr",
     "output_type": "stream",
     "text": [
      "[I 2024-12-29 16:47:32,839] Trial 8 finished with value: 0.6609185289459792 and parameters: {'n_estimators': 141, 'learning_rate': 0.0002334381469936166, 'max_depth': 5}. Best is trial 6 with value: 0.821749076192152.\n"
     ]
    },
    {
     "name": "stdout",
     "output_type": "stream",
     "text": [
      "🏃 View run XGB_Trial_8 at: http://13.60.79.0:5000/#/experiments/542391321365143307/runs/e0d591009865447eba86bd8ad95c72ca\n",
      "🧪 View experiment at: http://13.60.79.0:5000/#/experiments/542391321365143307\n"
     ]
    },
    {
     "name": "stderr",
     "output_type": "stream",
     "text": [
      "[I 2024-12-29 16:47:36,817] Trial 9 finished with value: 0.7402780221713884 and parameters: {'n_estimators': 157, 'learning_rate': 0.0028231750693437077, 'max_depth': 8}. Best is trial 6 with value: 0.821749076192152.\n"
     ]
    },
    {
     "name": "stdout",
     "output_type": "stream",
     "text": [
      "🏃 View run XGB_Trial_9 at: http://13.60.79.0:5000/#/experiments/542391321365143307/runs/473583bb4c784a75913eebddc86c5fe8\n",
      "🧪 View experiment at: http://13.60.79.0:5000/#/experiments/542391321365143307\n"
     ]
    },
    {
     "name": "stderr",
     "output_type": "stream",
     "text": [
      "[I 2024-12-29 16:47:38,375] Trial 10 finished with value: 0.7976420904451874 and parameters: {'n_estimators': 107, 'learning_rate': 0.05800471806085912, 'max_depth': 3}. Best is trial 6 with value: 0.821749076192152.\n"
     ]
    },
    {
     "name": "stdout",
     "output_type": "stream",
     "text": [
      "🏃 View run XGB_Trial_10 at: http://13.60.79.0:5000/#/experiments/542391321365143307/runs/8b07f0036db44849b19a2c3ce5fd3fa7\n",
      "🧪 View experiment at: http://13.60.79.0:5000/#/experiments/542391321365143307\n"
     ]
    },
    {
     "name": "stderr",
     "output_type": "stream",
     "text": [
      "[I 2024-12-29 16:47:41,714] Trial 11 finished with value: 0.8815766320605314 and parameters: {'n_estimators': 226, 'learning_rate': 0.09710687915589779, 'max_depth': 5}. Best is trial 11 with value: 0.8815766320605314.\n"
     ]
    },
    {
     "name": "stdout",
     "output_type": "stream",
     "text": [
      "🏃 View run XGB_Trial_11 at: http://13.60.79.0:5000/#/experiments/542391321365143307/runs/edda51e8c10e4dddbb454da33bd6ba27\n",
      "🧪 View experiment at: http://13.60.79.0:5000/#/experiments/542391321365143307\n"
     ]
    },
    {
     "name": "stderr",
     "output_type": "stream",
     "text": [
      "[I 2024-12-29 16:47:44,751] Trial 12 finished with value: 0.8782333274678866 and parameters: {'n_estimators': 199, 'learning_rate': 0.09928974935073845, 'max_depth': 5}. Best is trial 11 with value: 0.8815766320605314.\n"
     ]
    },
    {
     "name": "stdout",
     "output_type": "stream",
     "text": [
      "🏃 View run XGB_Trial_12 at: http://13.60.79.0:5000/#/experiments/542391321365143307/runs/fbb3debca5c14bb78cca179e3b85d325\n",
      "🧪 View experiment at: http://13.60.79.0:5000/#/experiments/542391321365143307\n"
     ]
    },
    {
     "name": "stderr",
     "output_type": "stream",
     "text": [
      "[I 2024-12-29 16:47:47,882] Trial 13 finished with value: 0.8740102058771776 and parameters: {'n_estimators': 206, 'learning_rate': 0.08888149788794718, 'max_depth': 5}. Best is trial 11 with value: 0.8815766320605314.\n"
     ]
    },
    {
     "name": "stdout",
     "output_type": "stream",
     "text": [
      "🏃 View run XGB_Trial_13 at: http://13.60.79.0:5000/#/experiments/542391321365143307/runs/b3893245669b4f1dad6c537e998ead8e\n",
      "🧪 View experiment at: http://13.60.79.0:5000/#/experiments/542391321365143307\n"
     ]
    },
    {
     "name": "stderr",
     "output_type": "stream",
     "text": [
      "[I 2024-12-29 16:47:53,117] Trial 14 finished with value: 0.7198662678162943 and parameters: {'n_estimators': 290, 'learning_rate': 0.0011350907480637265, 'max_depth': 6}. Best is trial 11 with value: 0.8815766320605314.\n"
     ]
    },
    {
     "name": "stdout",
     "output_type": "stream",
     "text": [
      "🏃 View run XGB_Trial_14 at: http://13.60.79.0:5000/#/experiments/542391321365143307/runs/2d2f09d5662f48058ee7142033ed869f\n",
      "🧪 View experiment at: http://13.60.79.0:5000/#/experiments/542391321365143307\n"
     ]
    },
    {
     "name": "stderr",
     "output_type": "stream",
     "text": [
      "[I 2024-12-29 16:47:56,584] Trial 15 finished with value: 0.8835122294562731 and parameters: {'n_estimators': 197, 'learning_rate': 0.096622712603481, 'max_depth': 6}. Best is trial 15 with value: 0.8835122294562731.\n"
     ]
    },
    {
     "name": "stdout",
     "output_type": "stream",
     "text": [
      "🏃 View run XGB_Trial_15 at: http://13.60.79.0:5000/#/experiments/542391321365143307/runs/04cd41a74d5942e9b8b2cbef2df6720a\n",
      "🧪 View experiment at: http://13.60.79.0:5000/#/experiments/542391321365143307\n"
     ]
    },
    {
     "name": "stderr",
     "output_type": "stream",
     "text": [
      "[I 2024-12-29 16:48:01,133] Trial 16 finished with value: 0.6987506598627485 and parameters: {'n_estimators': 254, 'learning_rate': 0.0009048866215432032, 'max_depth': 6}. Best is trial 15 with value: 0.8835122294562731.\n"
     ]
    },
    {
     "name": "stdout",
     "output_type": "stream",
     "text": [
      "🏃 View run XGB_Trial_16 at: http://13.60.79.0:5000/#/experiments/542391321365143307/runs/ad624532d7c5407c95f69b4437e174fc\n",
      "🧪 View experiment at: http://13.60.79.0:5000/#/experiments/542391321365143307\n"
     ]
    },
    {
     "name": "stderr",
     "output_type": "stream",
     "text": [
      "[I 2024-12-29 16:48:03,384] Trial 17 finished with value: 0.7712475805032554 and parameters: {'n_estimators': 124, 'learning_rate': 0.02283437587147833, 'max_depth': 4}. Best is trial 15 with value: 0.8835122294562731.\n"
     ]
    },
    {
     "name": "stdout",
     "output_type": "stream",
     "text": [
      "🏃 View run XGB_Trial_17 at: http://13.60.79.0:5000/#/experiments/542391321365143307/runs/0ca672287215406b8b77944e1dcaa18b\n",
      "🧪 View experiment at: http://13.60.79.0:5000/#/experiments/542391321365143307\n"
     ]
    },
    {
     "name": "stderr",
     "output_type": "stream",
     "text": [
      "[I 2024-12-29 16:48:07,570] Trial 18 finished with value: 0.7383424247756467 and parameters: {'n_estimators': 188, 'learning_rate': 0.002558717745133537, 'max_depth': 7}. Best is trial 15 with value: 0.8835122294562731.\n"
     ]
    },
    {
     "name": "stdout",
     "output_type": "stream",
     "text": [
      "🏃 View run XGB_Trial_18 at: http://13.60.79.0:5000/#/experiments/542391321365143307/runs/c197f81c284046de86e2bc22ef3e7369\n",
      "🧪 View experiment at: http://13.60.79.0:5000/#/experiments/542391321365143307\n"
     ]
    },
    {
     "name": "stderr",
     "output_type": "stream",
     "text": [
      "[I 2024-12-29 16:48:10,657] Trial 19 finished with value: 0.6505366883688193 and parameters: {'n_estimators': 222, 'learning_rate': 0.0003679819948236006, 'max_depth': 4}. Best is trial 15 with value: 0.8835122294562731.\n"
     ]
    },
    {
     "name": "stdout",
     "output_type": "stream",
     "text": [
      "🏃 View run XGB_Trial_19 at: http://13.60.79.0:5000/#/experiments/542391321365143307/runs/d1c24193d7d14276b816070cc0ce5312\n",
      "🧪 View experiment at: http://13.60.79.0:5000/#/experiments/542391321365143307\n"
     ]
    },
    {
     "name": "stderr",
     "output_type": "stream",
     "text": [
      "[I 2024-12-29 16:48:15,042] Trial 20 finished with value: 0.8594052437093085 and parameters: {'n_estimators': 269, 'learning_rate': 0.04213931349977016, 'max_depth': 6}. Best is trial 15 with value: 0.8835122294562731.\n"
     ]
    },
    {
     "name": "stdout",
     "output_type": "stream",
     "text": [
      "🏃 View run XGB_Trial_20 at: http://13.60.79.0:5000/#/experiments/542391321365143307/runs/871aef04c2de45de8e4fa3d24b5d9f78\n",
      "🧪 View experiment at: http://13.60.79.0:5000/#/experiments/542391321365143307\n"
     ]
    },
    {
     "name": "stderr",
     "output_type": "stream",
     "text": [
      "[I 2024-12-29 16:48:17,999] Trial 21 finished with value: 0.8720746084814358 and parameters: {'n_estimators': 187, 'learning_rate': 0.09170849260628182, 'max_depth': 5}. Best is trial 15 with value: 0.8835122294562731.\n"
     ]
    },
    {
     "name": "stdout",
     "output_type": "stream",
     "text": [
      "🏃 View run XGB_Trial_21 at: http://13.60.79.0:5000/#/experiments/542391321365143307/runs/590b36b1e1ec4fa6b30487239897ee47\n",
      "🧪 View experiment at: http://13.60.79.0:5000/#/experiments/542391321365143307\n"
     ]
    },
    {
     "name": "stderr",
     "output_type": "stream",
     "text": [
      "[I 2024-12-29 16:48:21,932] Trial 22 finished with value: 0.8829843392574345 and parameters: {'n_estimators': 201, 'learning_rate': 0.09449711455493372, 'max_depth': 6}. Best is trial 15 with value: 0.8835122294562731.\n"
     ]
    },
    {
     "name": "stdout",
     "output_type": "stream",
     "text": [
      "🏃 View run XGB_Trial_22 at: http://13.60.79.0:5000/#/experiments/542391321365143307/runs/ba0ec35f8b39425ebafe1759f1b6f7b4\n",
      "🧪 View experiment at: http://13.60.79.0:5000/#/experiments/542391321365143307\n"
     ]
    },
    {
     "name": "stderr",
     "output_type": "stream",
     "text": [
      "[I 2024-12-29 16:48:26,875] Trial 23 finished with value: 0.8796410346647897 and parameters: {'n_estimators': 227, 'learning_rate': 0.05837918350843848, 'max_depth': 8}. Best is trial 15 with value: 0.8835122294562731.\n"
     ]
    },
    {
     "name": "stdout",
     "output_type": "stream",
     "text": [
      "🏃 View run XGB_Trial_23 at: http://13.60.79.0:5000/#/experiments/542391321365143307/runs/c362478e0a8f45b78046d551ae08edaf\n",
      "🧪 View experiment at: http://13.60.79.0:5000/#/experiments/542391321365143307\n"
     ]
    },
    {
     "name": "stderr",
     "output_type": "stream",
     "text": [
      "[I 2024-12-29 16:48:31,168] Trial 24 finished with value: 0.7971142002463487 and parameters: {'n_estimators': 177, 'learning_rate': 0.016393283054141707, 'max_depth': 6}. Best is trial 15 with value: 0.8835122294562731.\n"
     ]
    },
    {
     "name": "stdout",
     "output_type": "stream",
     "text": [
      "🏃 View run XGB_Trial_24 at: http://13.60.79.0:5000/#/experiments/542391321365143307/runs/e43d2d8794724cc48c1cdefb710137a4\n",
      "🧪 View experiment at: http://13.60.79.0:5000/#/experiments/542391321365143307\n"
     ]
    },
    {
     "name": "stderr",
     "output_type": "stream",
     "text": [
      "[I 2024-12-29 16:48:37,011] Trial 25 finished with value: 0.8627485483019532 and parameters: {'n_estimators': 264, 'learning_rate': 0.03570559488358891, 'max_depth': 8}. Best is trial 15 with value: 0.8835122294562731.\n"
     ]
    },
    {
     "name": "stdout",
     "output_type": "stream",
     "text": [
      "🏃 View run XGB_Trial_25 at: http://13.60.79.0:5000/#/experiments/542391321365143307/runs/5effe9aba56a43f38982b731102abd29\n",
      "🧪 View experiment at: http://13.60.79.0:5000/#/experiments/542391321365143307\n"
     ]
    },
    {
     "name": "stderr",
     "output_type": "stream",
     "text": [
      "[I 2024-12-29 16:48:41,623] Trial 26 finished with value: 0.8764736934717579 and parameters: {'n_estimators': 228, 'learning_rate': 0.06285360783136802, 'max_depth': 7}. Best is trial 15 with value: 0.8835122294562731.\n"
     ]
    },
    {
     "name": "stdout",
     "output_type": "stream",
     "text": [
      "🏃 View run XGB_Trial_26 at: http://13.60.79.0:5000/#/experiments/542391321365143307/runs/b8b2e2515ec147afbd4aab6fd7e24b3a\n",
      "🧪 View experiment at: http://13.60.79.0:5000/#/experiments/542391321365143307\n"
     ]
    },
    {
     "name": "stderr",
     "output_type": "stream",
     "text": [
      "[I 2024-12-29 16:48:44,641] Trial 27 finished with value: 0.7337673763857118 and parameters: {'n_estimators': 193, 'learning_rate': 0.005600651916581067, 'max_depth': 4}. Best is trial 15 with value: 0.8835122294562731.\n"
     ]
    },
    {
     "name": "stdout",
     "output_type": "stream",
     "text": [
      "🏃 View run XGB_Trial_27 at: http://13.60.79.0:5000/#/experiments/542391321365143307/runs/93b1c9a6e8c94f2e839df3932046d11c\n",
      "🧪 View experiment at: http://13.60.79.0:5000/#/experiments/542391321365143307\n"
     ]
    },
    {
     "name": "stderr",
     "output_type": "stream",
     "text": [
      "[I 2024-12-29 16:48:47,553] Trial 28 finished with value: 0.8039767728312511 and parameters: {'n_estimators': 138, 'learning_rate': 0.02648947916040169, 'max_depth': 6}. Best is trial 15 with value: 0.8835122294562731.\n"
     ]
    },
    {
     "name": "stdout",
     "output_type": "stream",
     "text": [
      "🏃 View run XGB_Trial_28 at: http://13.60.79.0:5000/#/experiments/542391321365143307/runs/b1e4195aeea7414ebfe4c025e3a17443\n",
      "🧪 View experiment at: http://13.60.79.0:5000/#/experiments/542391321365143307\n"
     ]
    },
    {
     "name": "stderr",
     "output_type": "stream",
     "text": [
      "[I 2024-12-29 16:48:51,949] Trial 29 finished with value: 0.7994017244413162 and parameters: {'n_estimators': 284, 'learning_rate': 0.013033862497713211, 'max_depth': 5}. Best is trial 15 with value: 0.8835122294562731.\n"
     ]
    },
    {
     "name": "stdout",
     "output_type": "stream",
     "text": [
      "🏃 View run XGB_Trial_29 at: http://13.60.79.0:5000/#/experiments/542391321365143307/runs/4d77f5e7d6a64141bc033a5e3c676e8e\n",
      "🧪 View experiment at: http://13.60.79.0:5000/#/experiments/542391321365143307\n"
     ]
    },
    {
     "name": "stderr",
     "output_type": "stream",
     "text": [
      "\u001b[31m2024/12/29 16:48:59 WARNING mlflow.models.model: Model logged without a signature and input example. Please set `input_example` parameter when logging the model to auto infer the model signature.\u001b[0m\n"
     ]
    },
    {
     "name": "stdout",
     "output_type": "stream",
     "text": [
      "🏃 View run XGBoost_ADASYN_TFIDF_Bigrams at: http://13.60.79.0:5000/#/experiments/542391321365143307/runs/484f652e22c14078822268957599bcd0\n",
      "🧪 View experiment at: http://13.60.79.0:5000/#/experiments/542391321365143307\n"
     ]
    }
   ],
   "source": [
    "# Step 1: Remap the class labels from [-1, 0, 1] to [2, 0, 1]\n",
    "df['category'] = df['category'].map({-1: 2, 0: 0, 1: 1})\n",
    "\n",
    "# Step 2: Remove rows where the target labels (category) are NaN\n",
    "df = df.dropna(subset=['category'])\n",
    "\n",
    "ngram_range = (1, 2)  # Bigram setting\n",
    "max_features = 1000  # Set max_features to 1000 for TF-IDF\n",
    "\n",
    "# Step 4: Train-test split before vectorization and resampling\n",
    "X_train, X_test, y_train, y_test = train_test_split(df['clean_comment'], df['category'], test_size=0.2, random_state=42, stratify=df['category'])\n",
    "\n",
    "# Step 2: Vectorization using TF-IDF, fit on training data only\n",
    "vectorizer = TfidfVectorizer(ngram_range=ngram_range, max_features=max_features)\n",
    "X_train_vec = vectorizer.fit_transform(X_train)  # Fit on training data\n",
    "X_test_vec = vectorizer.transform(X_test)  # Transform test data\n",
    "\n",
    "# Step 3: Imbalance dataset using ADASYN\n",
    "adasyn = ADASYN(random_state=42)\n",
    "X_train_vec, y_train = adasyn.fit_resample(X_train_vec, y_train)\n",
    "\n",
    "\n",
    "# Function to log results in MLflow\n",
    "def log_mlflow(model_name, model, X_train, X_test, y_train, y_test):\n",
    "    with mlflow.start_run():\n",
    "        # Log model type\n",
    "        mlflow.set_tag(\"mlflow.runName\", f\"{model_name}_ADASYN_TFIDF_Bigrams\")\n",
    "        mlflow.set_tag(\"experiment_type\", \"algorithm_comparison\")\n",
    "\n",
    "        # Log algorithm name as a parameter\n",
    "        mlflow.log_param(\"algo_name\", model_name)\n",
    "\n",
    "        # Train model\n",
    "        model.fit(X_train, y_train)\n",
    "        y_pred = model.predict(X_test)\n",
    "\n",
    "        # Log accuracy\n",
    "        accuracy = accuracy_score(y_test, y_pred)\n",
    "        mlflow.log_metric(\"accuracy\", accuracy)\n",
    "\n",
    "        # Log classification report\n",
    "        classification_rep = classification_report(y_test, y_pred, output_dict=True)\n",
    "        for label, metrics in classification_rep.items():\n",
    "            if isinstance(metrics, dict):\n",
    "                for metric, value in metrics.items():\n",
    "                    mlflow.log_metric(f\"{label}_{metric}\", value)\n",
    "\n",
    "        # Log the model\n",
    "        mlflow.sklearn.log_model(model, f\"{model_name}_model\")\n",
    "\n",
    "\n",
    "# Step 6: Optuna objective function for XGBoost\n",
    "def objective_xgboost(trial):\n",
    "    n_estimators = trial.suggest_int('n_estimators', 50, 300)\n",
    "    learning_rate = trial.suggest_float('learning_rate', 1e-4, 1e-1, log=True)\n",
    "    max_depth = trial.suggest_int('max_depth', 3, 10)\n",
    "\n",
    "    model = XGBClassifier(n_estimators=n_estimators, learning_rate=learning_rate, max_depth=max_depth, random_state=42)\n",
    "     \n",
    "    # Log trial in MLflow\n",
    "    with mlflow.start_run(nested=True):  # Nested allows Optuna trials to appear under a single experiment\n",
    "        # Log trial number in MLflow\n",
    "        mlflow.set_tag(\"mlflow.runName\", f\"XGB_Trial_{trial.number}\")\n",
    "        # Log trial parameters\n",
    "        mlflow.log_param(\"n_estimators\", n_estimators)\n",
    "        mlflow.log_param(\"learning_rate\", learning_rate)\n",
    "        mlflow.log_param(\"max_depth\", max_depth)\n",
    "\n",
    "        # Train and evaluate the model\n",
    "        model.fit(X_train_vec, y_train)\n",
    "        y_pred = model.predict(X_test_vec)\n",
    "        accuracy = accuracy_score(y_test, y_pred)\n",
    "\n",
    "        # Log trial metrics\n",
    "        mlflow.log_metric(\"accuracy\", accuracy)\n",
    "        mlflow.log_metric(\"trial_number\", trial.number)\n",
    "\n",
    "    # Return the metric for Optuna optimization\n",
    "    return accuracy\n",
    "\n",
    "\n",
    "# Step 7: Run Optuna for XGBoost, log the best model only\n",
    "def run_optuna_experiment():\n",
    "    study = optuna.create_study(direction=\"maximize\")\n",
    "    study.optimize(objective_xgboost, n_trials=30)\n",
    "\n",
    "    # Get the best parameters and log only the best model\n",
    "    best_params = study.best_params\n",
    "    best_model = XGBClassifier(n_estimators=best_params['n_estimators'], \n",
    "                               learning_rate=best_params['learning_rate'], \n",
    "                               max_depth=best_params['max_depth'], \n",
    "                               random_state=42)\n",
    "\n",
    "    # Log the best model with MLflow, passing the algo_name as \"xgboost\"\n",
    "    log_mlflow(\"XGBoost\", best_model, X_train_vec, X_test_vec, y_train, y_test)\n",
    "\n",
    "# Run the experiment for XGBoost\n",
    "run_optuna_experiment()\n"
   ]
  },
  {
   "cell_type": "code",
   "execution_count": null,
   "metadata": {},
   "outputs": [],
   "source": [
    "def run_optuna_experiment():\n",
    "    study = optuna.create_study(direction=\"maximize\")\n",
    "    study.optimize(objective_xgboost, n_trials=30)\n",
    "    return study.best_params  # Return best parameters\n",
    "\n",
    "best_params = run_optuna_experiment()\n",
    "print(\"Best parameters:\", best_params)"
   ]
  }
 ],
 "metadata": {
  "kernelspec": {
   "display_name": "base",
   "language": "python",
   "name": "python3"
  },
  "language_info": {
   "codemirror_mode": {
    "name": "ipython",
    "version": 3
   },
   "file_extension": ".py",
   "mimetype": "text/x-python",
   "name": "python",
   "nbconvert_exporter": "python",
   "pygments_lexer": "ipython3",
   "version": "3.11.7"
  }
 },
 "nbformat": 4,
 "nbformat_minor": 2
}
